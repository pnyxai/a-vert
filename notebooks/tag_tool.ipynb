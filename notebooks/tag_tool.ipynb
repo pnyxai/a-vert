{
 "cells": [
  {
   "cell_type": "code",
   "execution_count": 6,
   "id": "f3301261",
   "metadata": {},
   "outputs": [],
   "source": [
    "from ipywidgets import Button, HBox, VBox, Output\n",
    "from IPython.display import display, clear_output\n",
    "import json\n",
    "import os\n",
    "import textwrap"
   ]
  },
  {
   "cell_type": "markdown",
   "id": "c41ce3de",
   "metadata": {},
   "source": [
    "# Tool for Manual Tag of Experiments"
   ]
  },
  {
   "cell_type": "code",
   "execution_count": 7,
   "id": "a2784f86",
   "metadata": {},
   "outputs": [],
   "source": [
    "# Indexes of questions to tag\n",
    "TAG_RANGE = [10,20]\n",
    "\n",
    "# Select a model's responses to tag\n",
    "# MODEL_NAME = \"Meta-Llama-3-3-70B-Instruct-AWQ-INT4\"\n",
    "# MODEL_NAME = \"gpt-oss-20b\"\n",
    "MODEL_NAME = \"Qwen3-30B-A3B-GPTQ-Int4\""
   ]
  },
  {
   "cell_type": "markdown",
   "id": "2726e26d",
   "metadata": {},
   "source": [
    "### Seu-up"
   ]
  },
  {
   "cell_type": "code",
   "execution_count": 8,
   "id": "dfc46ebe",
   "metadata": {},
   "outputs": [],
   "source": [
    "# Set paths\n",
    "DATA_PATH = f'../data/{MODEL_NAME}/chat/'\n",
    "OUTPUT_FILE = os.path.join(DATA_PATH, \"human_labels.jsonl\")   # Where results are saved\n",
    "\n",
    "# Load previously labeled entries (if any)\n",
    "labeled_set = set()\n",
    "if os.path.exists(OUTPUT_FILE):\n",
    "    with open(OUTPUT_FILE, \"r\") as f:\n",
    "        for line in f:\n",
    "            try:\n",
    "                entry = json.loads(line)\n",
    "                key = (entry[\"dataset\"], entry[\"file\"], entry[\"line\"])\n",
    "                labeled_set.add(key)\n",
    "            except json.JSONDecodeError:\n",
    "                pass  # Ignore corrupted lines\n",
    "\n",
    "# Load all jsonl entries from all files\n",
    "jsonl_files = []\n",
    "for dataset in os.listdir(DATA_PATH):\n",
    "    if os.path.isdir(os.path.join(DATA_PATH, dataset)):\n",
    "        jsonl_files = [[os.path.join(DATA_PATH, dataset, f), dataset, f] for f in os.listdir(os.path.join(DATA_PATH, dataset)) if f.endswith(\".jsonl\")]\n",
    "\n",
    "# Prepare all iterations\n",
    "all_entries = []\n",
    "running_count = 0\n",
    "process_already = 0\n",
    "for fpath, fdataset, fname in jsonl_files:\n",
    "    with open(fpath, 'r') as f:\n",
    "        for i, line in enumerate(f):\n",
    "            if i < TAG_RANGE[0] or i>=TAG_RANGE[1]:\n",
    "                # Out of scope in this run\n",
    "                continue\n",
    "            skip = False\n",
    "            for proc_dataset, proc_file, proc_line in labeled_set:\n",
    "                if (fdataset == proc_dataset) and (fname==proc_file) and (i == proc_line):\n",
    "                    #already processed\n",
    "                    process_already += 1\n",
    "                    skip = True\n",
    "                    break\n",
    "            if not skip:\n",
    "                try:\n",
    "                    obj = json.loads(line)\n",
    "                    all_entries.append((fdataset, fname, i, obj, running_count))\n",
    "                    running_count+=1\n",
    "                except json.JSONDecodeError:\n",
    "                    print(f\"Skipping invalid JSON in dataset {fdataset}, file {fname}, line {i}\")\n",
    "total_run = len(all_entries)"
   ]
  },
  {
   "cell_type": "code",
   "execution_count": 9,
   "id": "01cfeb41",
   "metadata": {},
   "outputs": [],
   "source": [
    "# Construct UI elements\n",
    "out = Output()\n",
    "btn_correct = Button(description=\"Correct\", button_style=\"success\")\n",
    "btn_wrong = Button(description=\"Wrong\", button_style=\"danger\")\n",
    "btn_refusal = Button(description=\"Refusal\", button_style=\"danger\")\n",
    "btn_qst_mistake = Button(description=\"Question Mistake\", button_style=\"danger\")\n",
    "buttons_box = HBox([btn_correct, btn_wrong, btn_refusal, btn_qst_mistake])\n",
    "main_box = VBox([buttons_box, out])\n",
    "\n",
    "# Results and state\n",
    "results = []\n",
    "entry_iter = iter(all_entries)\n",
    "current_entry = None\n",
    "\n",
    "def save_entry_to_file(entry):\n",
    "    with open(OUTPUT_FILE, \"a\") as f:\n",
    "        f.write(json.dumps(entry) + \"\\n\")\n",
    "\n",
    "def show_next_entry():\n",
    "    global current_entry\n",
    "    try:\n",
    "        current_entry = next(entry_iter)\n",
    "        _, filename, line_number, obj, running_count = current_entry\n",
    "\n",
    "        with out:\n",
    "            clear_output(wait=True)\n",
    "            print(f\"Element {running_count+1} of {total_run}\")\n",
    "            print(f\"File: {filename}\\tQuestion: {line_number}\")\n",
    "            target = obj.get('target', None)\n",
    "            if target is None:\n",
    "                target = obj.get('answer', None)\n",
    "            if target is None:\n",
    "                raise ValueError(f\"Target not found in: File: {filename}\\tQuestion: {line_number}\")\n",
    "            question = obj['doc'].get('question', None)\n",
    "            if question is None:\n",
    "                raise ValueError(f\"Question not found in: File: {filename}\\tQuestion: {line_number}\")\n",
    "            print(f\"\\nQuestion: {question}\")\n",
    "            print(f\"\\nTarget: {target}\")\n",
    "            lines = obj['resps'][0][0].splitlines()\n",
    "            wrapped = \"\\n\".join(textwrap.fill(line, width=120) for line in lines)\n",
    "            print(\"\\nResponse:\\n\", wrapped)\n",
    "\n",
    "    except StopIteration:\n",
    "        with out:\n",
    "            clear_output()\n",
    "            print(\"✅ All lines processed.\")\n",
    "            print(\"Final results:\")\n",
    "            for r in results:\n",
    "                print(r)\n",
    "\n",
    "def on_click(label):\n",
    "    def handler(_):\n",
    "        if current_entry:\n",
    "            dataset_name, filename, line_number, _ , _ = current_entry\n",
    "            result = {\n",
    "                \"dataset\": dataset_name,\n",
    "                \"file\": filename,\n",
    "                \"line\": line_number,\n",
    "                \"label\": label\n",
    "            }\n",
    "            results.append(result)\n",
    "            save_entry_to_file(result)\n",
    "        show_next_entry()\n",
    "    return handler\n",
    "\n",
    "btn_correct.on_click(on_click(\"Correct\"))\n",
    "btn_wrong.on_click(on_click(\"Wrong\"))\n",
    "btn_refusal.on_click(on_click(\"Refusal\"))\n",
    "btn_qst_mistake.on_click(on_click(\"Question Mistake\"))"
   ]
  },
  {
   "cell_type": "markdown",
   "id": "1dcc1a55",
   "metadata": {},
   "source": [
    "# Run the UI"
   ]
  },
  {
   "cell_type": "code",
   "execution_count": 10,
   "id": "38a276a3",
   "metadata": {},
   "outputs": [
    {
     "data": {
      "application/vnd.jupyter.widget-view+json": {
       "model_id": "3152d7f04651465fa8e229ff3c2cd101",
       "version_major": 2,
       "version_minor": 0
      },
      "text/plain": [
       "VBox(children=(HBox(children=(Button(button_style='success', description='Correct', style=ButtonStyle()), Butt…"
      ]
     },
     "metadata": {},
     "output_type": "display_data"
    }
   ],
   "source": [
    "# Display interface once\n",
    "display(main_box)\n",
    "show_next_entry()\n"
   ]
  }
 ],
 "metadata": {
  "kernelspec": {
   "display_name": "poktscan-data-python-py3.10 (3.10.17)",
   "language": "python",
   "name": "python3"
  },
  "language_info": {
   "codemirror_mode": {
    "name": "ipython",
    "version": 3
   },
   "file_extension": ".py",
   "mimetype": "text/x-python",
   "name": "python",
   "nbconvert_exporter": "python",
   "pygments_lexer": "ipython3",
   "version": "3.10.17"
  }
 },
 "nbformat": 4,
 "nbformat_minor": 5
}
